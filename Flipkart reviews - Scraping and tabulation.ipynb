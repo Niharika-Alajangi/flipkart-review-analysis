{
 "cells": [
  {
   "cell_type": "markdown",
   "metadata": {},
   "source": [
    "# Step 1 : DATA GATHERING"
   ]
  },
  {
   "cell_type": "code",
   "execution_count": 68,
   "metadata": {},
   "outputs": [],
   "source": [
    "# WEB SCRAPING\n",
    "import requests\n",
    "from bs4 import BeautifulSoup\n",
    "import pickle"
   ]
  },
  {
   "cell_type": "code",
   "execution_count": 69,
   "metadata": {},
   "outputs": [],
   "source": [
    "\n",
    "def url_to_text(url):\n",
    "    page = requests.get(url)\n",
    "    soup = BeautifulSoup(page.content,'html.parser')\n",
    "    #print(soup)\n",
    "    total = soup.find(class_ = 'ooJZfD _2oZ8XT col-9-12')\n",
    "    #print(total)\n",
    "    '''REVIEWS'''\n",
    "    reviews = total.find_all(class_ = 'qwjRop')\n",
    "    rev = [t.text for t in reviews]\n",
    "    for r in rev:\n",
    "        review.append(r)\n",
    "    #print(len(review))\n",
    "    '''RATINGS'''\n",
    "    ratings5_4 = total.find_all(class_ = 'hGSR34 E_uFuv')\n",
    "    ratings_2 = total.find_all(class_ = 'hGSR34 _1x2VEC E_uFuv')\n",
    "    ratings_1= total.find_all(class_ = 'hGSR34 _1nLEql E_uFuv')\n",
    "    #rating = []\n",
    "    #rating = [t.text for t in ratings5_4]\n",
    "    #rating = [t.text for t in ratings_1]\n",
    "    #rating = [t.text for t in ratings_2]\n",
    "    for i in ratings5_4:\n",
    "        rating.append(i.text)\n",
    "    for i in ratings_2:\n",
    "        rating.append(i.text)\n",
    "    for i in ratings_1:\n",
    "        rating.append(i.text)\n",
    "    #print((rating))\n",
    "    '''HEADINGS'''\n",
    "    headings = total.find_all(class_ = '_2xg6Ul')\n",
    "    for t in headings:\n",
    "        heading.append(t.text)\n",
    "    #heing = [t.text for t in headings]\n",
    "    #print(heading)\n",
    "    '''USER'''\n",
    "    users = total.find_all(class_ = '_3LYOAd _3sxSiS')\n",
    "    for t in users:\n",
    "        user.append(t.text)\n",
    "    #user = [t.text for t in users]\n",
    "    #print(len(user))"
   ]
  },
  {
   "cell_type": "code",
   "execution_count": 70,
   "metadata": {},
   "outputs": [
    {
     "name": "stdout",
     "output_type": "stream",
     "text": [
      "500\n",
      "500\n",
      "500\n",
      "500\n"
     ]
    }
   ],
   "source": [
    "#c=0\n",
    "review = []\n",
    "rating = []\n",
    "heading = []\n",
    "user = []\n",
    "c = 0\n",
    "urls = ['https://www.flipkart.com/redmi-8-onyx-black-64-gb/product-reviews/itmebd23d8a2ed1b?pid=MOBFKPYDZJQHGJXA&lid=LSTMOBFKPYDZJQHGJXAPMDXOB&marketplace=FLIPKART&page='+str(c) for c in range(1,51)]\n",
    "#print((urls))\n",
    "for u in urls:\n",
    "    url_to_text(u)\n",
    "print(len(user))\n",
    "print(len(review))\n",
    "print(len(rating))\n",
    "print(len(heading))"
   ]
  },
  {
   "cell_type": "code",
   "execution_count": 71,
   "metadata": {},
   "outputs": [
    {
     "name": "stdout",
     "output_type": "stream",
     "text": [
      "               User Name       Heading Rating  \\\n",
      "0           Diptanu Paul     Just wow!      5   \n",
      "1         Sachin Pashte        Awesome      5   \n",
      "2       Arunangshu Banik     Just wow!      5   \n",
      "3      PRINCE  SEBASTIAN       Awesome      5   \n",
      "4    Hari Chandana Petli      Terrific      5   \n",
      "..                   ...           ...    ...   \n",
      "495          Ankit Gupta     Wonderful      4   \n",
      "496           John Rogue       Awesome      5   \n",
      "497           Meet  Shah  Nice product      4   \n",
      "498    Flipkart Customer     Very Good      4   \n",
      "499          ABHAY SINGH     Very Good      4   \n",
      "\n",
      "                                                                                                                                                                                                                                                                                                                                                            Review  \n",
      "0    This Is My Second Low Budget Mi Phone. First One Was 5A. I'm In Love With This Brand. Let's Talk About This One...Design : Awesome (Green Is Killer, Red Is Also Super.)Battery : Awesome. (2 Days Backup For Normal Users, 1 Day For Heavy Users.)Camera : Good. (Not Bad At All, It's Fine.)Display : Good. (Use Auto Brightness In Outdoor.)Heating Pro...  \n",
      "1    Overall, the screen of the Redmi 8 is pretty good considering its a sub-Rs 10,000 price phone. Besides being a bright screen it is also bigger compared to what we saw in earlier comparable Redmi phones. The Redmi 8 comes with a 6.22-inch HD+ IPS display. It has screen resolution of 1520x720 pixels.Battery backup is not good like 5000 mh battery...  \n",
      "2                                                                                                                                                                                                       I am spellbound after seeing this.What a value of money ... love you MI 🎊😍😘 ...and also the package delivery service and packing was quite good .READ MORE  \n",
      "3                                                                                                                                                                                                                        Very good phone...nice display and  long battery life ,, good camera, 4gb Ram, large storage... decent price... highly recommendREAD MORE  \n",
      "4                                                                                                                                                                                    Awesome mobile. I've purchased it for my Mom🥰... She is very happy with this SURPRISE... Guys don't take any Option and make it as a Selection... Wonderful Mobile 🤩READ MORE  \n",
      "..                                                                                                                                                                                                                                                                                                                                                             ...  \n",
      "495                                                                                                                                                                               better option available in this price like realme U1 its feel very heavy realme U1 is best device because is very nice finishing and also go for it realme is only realREAD MORE  \n",
      "496                                                                                                                                                       Great mobile, awesome battery backup. Really good for day to day use. Not a camera phone, but it will get the job done. Got it for 6500 with exchange of an old device. Really worth the money.READ MORE  \n",
      "497  Very Good Smart Budget Phone at this price... features having Fast Charging C Port, 5000 mAh Battery, Dual Camera Setup, 4GB 64GB storage makes this phone more stronger than others in same price category. Camera and Processor Performance could be better, weight is more(due to 5000mAh battery)  although very well featured budget oriented, beauti...  \n",
      "498                                                                                   alwya want to shop only on Flipkart , because of detailed information n understanding of product with genuine quality n fast delivery...again purchase smartphone from Flipkart , ..awesome , genuine fast delivery , and again to say , Flipkart always rocks ....READ MORE  \n",
      "499                                                                                                                                                                                                                                                                     Nice product with affordable price, thanks Xiaomi. Best all-around in 8k segment.READ MORE  \n",
      "\n",
      "[500 rows x 4 columns]\n"
     ]
    }
   ],
   "source": [
    "# We can either keep it in dictionary format or put it into a pandas dataframe\n",
    "import pandas as pd\n",
    "User_reviews = pd.DataFrame({\n",
    "    'User Name':user,\n",
    "    'Heading':heading,\n",
    "    'Rating':rating,\n",
    "    'Review':review\n",
    "})\n",
    "pd.set_option('max_colwidth',350)\n",
    "User_reviews.columns = ['User Name','Heading','Rating','Review']\n",
    "print(User_reviews)"
   ]
  },
  {
   "cell_type": "code",
   "execution_count": 72,
   "metadata": {},
   "outputs": [],
   "source": [
    "User_reviews.to_csv('Flipkart_reviews1.csv')"
   ]
  },
  {
   "cell_type": "code",
   "execution_count": 73,
   "metadata": {},
   "outputs": [],
   "source": [
    "import pandas as pd\n",
    "fk_rev = pd.read_csv(\"/home/skull_crusher/Desktop/data visualization/Flipkart_reviews1.csv\")"
   ]
  },
  {
   "cell_type": "code",
   "execution_count": 74,
   "metadata": {},
   "outputs": [
    {
     "data": {
      "text/html": [
       "<div>\n",
       "<style scoped>\n",
       "    .dataframe tbody tr th:only-of-type {\n",
       "        vertical-align: middle;\n",
       "    }\n",
       "\n",
       "    .dataframe tbody tr th {\n",
       "        vertical-align: top;\n",
       "    }\n",
       "\n",
       "    .dataframe thead th {\n",
       "        text-align: right;\n",
       "    }\n",
       "</style>\n",
       "<table border=\"1\" class=\"dataframe\">\n",
       "  <thead>\n",
       "    <tr style=\"text-align: right;\">\n",
       "      <th></th>\n",
       "      <th>Unnamed: 0</th>\n",
       "      <th>User Name</th>\n",
       "      <th>Heading</th>\n",
       "      <th>Rating</th>\n",
       "      <th>Review</th>\n",
       "    </tr>\n",
       "  </thead>\n",
       "  <tbody>\n",
       "    <tr>\n",
       "      <th>0</th>\n",
       "      <td>0</td>\n",
       "      <td>Diptanu Paul</td>\n",
       "      <td>Just wow!</td>\n",
       "      <td>5</td>\n",
       "      <td>This Is My Second Low Budget Mi Phone. First One Was 5A. I'm In Love With This Brand. Let's Talk About This One...Design : Awesome (Green Is Killer, Red Is Also Super.)Battery : Awesome. (2 Days Backup For Normal Users, 1 Day For Heavy Users.)Camera : Good. (Not Bad At All, It's Fine.)Display : Good. (Use Auto Brightness In Outdoor.)Heating Pro...</td>\n",
       "    </tr>\n",
       "    <tr>\n",
       "      <th>1</th>\n",
       "      <td>1</td>\n",
       "      <td>Sachin Pashte</td>\n",
       "      <td>Awesome</td>\n",
       "      <td>5</td>\n",
       "      <td>Overall, the screen of the Redmi 8 is pretty good considering its a sub-Rs 10,000 price phone. Besides being a bright screen it is also bigger compared to what we saw in earlier comparable Redmi phones. The Redmi 8 comes with a 6.22-inch HD+ IPS display. It has screen resolution of 1520x720 pixels.Battery backup is not good like 5000 mh battery...</td>\n",
       "    </tr>\n",
       "    <tr>\n",
       "      <th>2</th>\n",
       "      <td>2</td>\n",
       "      <td>Arunangshu Banik</td>\n",
       "      <td>Just wow!</td>\n",
       "      <td>5</td>\n",
       "      <td>I am spellbound after seeing this.What a value of money ... love you MI 🎊😍😘 ...and also the package delivery service and packing was quite good .READ MORE</td>\n",
       "    </tr>\n",
       "    <tr>\n",
       "      <th>3</th>\n",
       "      <td>3</td>\n",
       "      <td>PRINCE  SEBASTIAN</td>\n",
       "      <td>Awesome</td>\n",
       "      <td>5</td>\n",
       "      <td>Very good phone...nice display and  long battery life ,, good camera, 4gb Ram, large storage... decent price... highly recommendREAD MORE</td>\n",
       "    </tr>\n",
       "    <tr>\n",
       "      <th>4</th>\n",
       "      <td>4</td>\n",
       "      <td>Hari Chandana Petli</td>\n",
       "      <td>Terrific</td>\n",
       "      <td>5</td>\n",
       "      <td>Awesome mobile. I've purchased it for my Mom🥰... She is very happy with this SURPRISE... Guys don't take any Option and make it as a Selection... Wonderful Mobile 🤩READ MORE</td>\n",
       "    </tr>\n",
       "    <tr>\n",
       "      <th>...</th>\n",
       "      <td>...</td>\n",
       "      <td>...</td>\n",
       "      <td>...</td>\n",
       "      <td>...</td>\n",
       "      <td>...</td>\n",
       "    </tr>\n",
       "    <tr>\n",
       "      <th>495</th>\n",
       "      <td>495</td>\n",
       "      <td>Ankit Gupta</td>\n",
       "      <td>Wonderful</td>\n",
       "      <td>4</td>\n",
       "      <td>better option available in this price like realme U1 its feel very heavy realme U1 is best device because is very nice finishing and also go for it realme is only realREAD MORE</td>\n",
       "    </tr>\n",
       "    <tr>\n",
       "      <th>496</th>\n",
       "      <td>496</td>\n",
       "      <td>John Rogue</td>\n",
       "      <td>Awesome</td>\n",
       "      <td>5</td>\n",
       "      <td>Great mobile, awesome battery backup. Really good for day to day use. Not a camera phone, but it will get the job done. Got it for 6500 with exchange of an old device. Really worth the money.READ MORE</td>\n",
       "    </tr>\n",
       "    <tr>\n",
       "      <th>497</th>\n",
       "      <td>497</td>\n",
       "      <td>Meet  Shah</td>\n",
       "      <td>Nice product</td>\n",
       "      <td>4</td>\n",
       "      <td>Very Good Smart Budget Phone at this price... features having Fast Charging C Port, 5000 mAh Battery, Dual Camera Setup, 4GB 64GB storage makes this phone more stronger than others in same price category. Camera and Processor Performance could be better, weight is more(due to 5000mAh battery)  although very well featured budget oriented, beauti...</td>\n",
       "    </tr>\n",
       "    <tr>\n",
       "      <th>498</th>\n",
       "      <td>498</td>\n",
       "      <td>Flipkart Customer</td>\n",
       "      <td>Very Good</td>\n",
       "      <td>4</td>\n",
       "      <td>alwya want to shop only on Flipkart , because of detailed information n understanding of product with genuine quality n fast delivery...again purchase smartphone from Flipkart , ..awesome , genuine fast delivery , and again to say , Flipkart always rocks ....READ MORE</td>\n",
       "    </tr>\n",
       "    <tr>\n",
       "      <th>499</th>\n",
       "      <td>499</td>\n",
       "      <td>ABHAY SINGH</td>\n",
       "      <td>Very Good</td>\n",
       "      <td>4</td>\n",
       "      <td>Nice product with affordable price, thanks Xiaomi. Best all-around in 8k segment.READ MORE</td>\n",
       "    </tr>\n",
       "  </tbody>\n",
       "</table>\n",
       "<p>500 rows × 5 columns</p>\n",
       "</div>"
      ],
      "text/plain": [
       "     Unnamed: 0            User Name       Heading  Rating  \\\n",
       "0             0         Diptanu Paul     Just wow!       5   \n",
       "1             1       Sachin Pashte        Awesome       5   \n",
       "2             2     Arunangshu Banik     Just wow!       5   \n",
       "3             3    PRINCE  SEBASTIAN       Awesome       5   \n",
       "4             4  Hari Chandana Petli      Terrific       5   \n",
       "..          ...                  ...           ...     ...   \n",
       "495         495          Ankit Gupta     Wonderful       4   \n",
       "496         496           John Rogue       Awesome       5   \n",
       "497         497           Meet  Shah  Nice product       4   \n",
       "498         498    Flipkart Customer     Very Good       4   \n",
       "499         499          ABHAY SINGH     Very Good       4   \n",
       "\n",
       "                                                                                                                                                                                                                                                                                                                                                            Review  \n",
       "0    This Is My Second Low Budget Mi Phone. First One Was 5A. I'm In Love With This Brand. Let's Talk About This One...Design : Awesome (Green Is Killer, Red Is Also Super.)Battery : Awesome. (2 Days Backup For Normal Users, 1 Day For Heavy Users.)Camera : Good. (Not Bad At All, It's Fine.)Display : Good. (Use Auto Brightness In Outdoor.)Heating Pro...  \n",
       "1    Overall, the screen of the Redmi 8 is pretty good considering its a sub-Rs 10,000 price phone. Besides being a bright screen it is also bigger compared to what we saw in earlier comparable Redmi phones. The Redmi 8 comes with a 6.22-inch HD+ IPS display. It has screen resolution of 1520x720 pixels.Battery backup is not good like 5000 mh battery...  \n",
       "2                                                                                                                                                                                                       I am spellbound after seeing this.What a value of money ... love you MI 🎊😍😘 ...and also the package delivery service and packing was quite good .READ MORE  \n",
       "3                                                                                                                                                                                                                        Very good phone...nice display and  long battery life ,, good camera, 4gb Ram, large storage... decent price... highly recommendREAD MORE  \n",
       "4                                                                                                                                                                                    Awesome mobile. I've purchased it for my Mom🥰... She is very happy with this SURPRISE... Guys don't take any Option and make it as a Selection... Wonderful Mobile 🤩READ MORE  \n",
       "..                                                                                                                                                                                                                                                                                                                                                             ...  \n",
       "495                                                                                                                                                                               better option available in this price like realme U1 its feel very heavy realme U1 is best device because is very nice finishing and also go for it realme is only realREAD MORE  \n",
       "496                                                                                                                                                       Great mobile, awesome battery backup. Really good for day to day use. Not a camera phone, but it will get the job done. Got it for 6500 with exchange of an old device. Really worth the money.READ MORE  \n",
       "497  Very Good Smart Budget Phone at this price... features having Fast Charging C Port, 5000 mAh Battery, Dual Camera Setup, 4GB 64GB storage makes this phone more stronger than others in same price category. Camera and Processor Performance could be better, weight is more(due to 5000mAh battery)  although very well featured budget oriented, beauti...  \n",
       "498                                                                                   alwya want to shop only on Flipkart , because of detailed information n understanding of product with genuine quality n fast delivery...again purchase smartphone from Flipkart , ..awesome , genuine fast delivery , and again to say , Flipkart always rocks ....READ MORE  \n",
       "499                                                                                                                                                                                                                                                                     Nice product with affordable price, thanks Xiaomi. Best all-around in 8k segment.READ MORE  \n",
       "\n",
       "[500 rows x 5 columns]"
      ]
     },
     "execution_count": 74,
     "metadata": {},
     "output_type": "execute_result"
    }
   ],
   "source": [
    "fk_rev"
   ]
  },
  {
   "cell_type": "code",
   "execution_count": 75,
   "metadata": {},
   "outputs": [
    {
     "data": {
      "text/plain": [
       "Unnamed: 0                                                                                             8\n",
       "User Name                                                                                  Sumit  Kumar \n",
       "Heading                                                                               Highly recommended\n",
       "Rating                                                                                                 5\n",
       "Review        Wow great phone camera is super and battery is very good I am so happy this phoneREAD MORE\n",
       "Name: 8, dtype: object"
      ]
     },
     "execution_count": 75,
     "metadata": {},
     "output_type": "execute_result"
    }
   ],
   "source": [
    "fk_rev.loc[8]"
   ]
  },
  {
   "cell_type": "code",
   "execution_count": 76,
   "metadata": {},
   "outputs": [],
   "source": [
    "df = fk_rev.copy()"
   ]
  },
  {
   "cell_type": "code",
   "execution_count": 77,
   "metadata": {},
   "outputs": [
    {
     "data": {
      "text/html": [
       "<div>\n",
       "<style scoped>\n",
       "    .dataframe tbody tr th:only-of-type {\n",
       "        vertical-align: middle;\n",
       "    }\n",
       "\n",
       "    .dataframe tbody tr th {\n",
       "        vertical-align: top;\n",
       "    }\n",
       "\n",
       "    .dataframe thead th {\n",
       "        text-align: right;\n",
       "    }\n",
       "</style>\n",
       "<table border=\"1\" class=\"dataframe\">\n",
       "  <thead>\n",
       "    <tr style=\"text-align: right;\">\n",
       "      <th></th>\n",
       "      <th>Unnamed: 0</th>\n",
       "      <th>User Name</th>\n",
       "      <th>Heading</th>\n",
       "      <th>Rating</th>\n",
       "      <th>Review</th>\n",
       "    </tr>\n",
       "  </thead>\n",
       "  <tbody>\n",
       "    <tr>\n",
       "      <th>0</th>\n",
       "      <td>0</td>\n",
       "      <td>Diptanu Paul</td>\n",
       "      <td>Just wow!</td>\n",
       "      <td>5</td>\n",
       "      <td>This Is My Second Low Budget Mi Phone. First One Was 5A. I'm In Love With This Brand. Let's Talk About This One...Design : Awesome (Green Is Killer, Red Is Also Super.)Battery : Awesome. (2 Days Backup For Normal Users, 1 Day For Heavy Users.)Camera : Good. (Not Bad At All, It's Fine.)Display : Good. (Use Auto Brightness In Outdoor.)Heating Pro...</td>\n",
       "    </tr>\n",
       "    <tr>\n",
       "      <th>1</th>\n",
       "      <td>1</td>\n",
       "      <td>Sachin Pashte</td>\n",
       "      <td>Awesome</td>\n",
       "      <td>5</td>\n",
       "      <td>Overall, the screen of the Redmi 8 is pretty good considering its a sub-Rs 10,000 price phone. Besides being a bright screen it is also bigger compared to what we saw in earlier comparable Redmi phones. The Redmi 8 comes with a 6.22-inch HD+ IPS display. It has screen resolution of 1520x720 pixels.Battery backup is not good like 5000 mh battery...</td>\n",
       "    </tr>\n",
       "    <tr>\n",
       "      <th>2</th>\n",
       "      <td>2</td>\n",
       "      <td>Arunangshu Banik</td>\n",
       "      <td>Just wow!</td>\n",
       "      <td>5</td>\n",
       "      <td>I am spellbound after seeing this.What a value of money ... love you MI 🎊😍😘 ...and also the package delivery service and packing was quite good .READ MORE</td>\n",
       "    </tr>\n",
       "  </tbody>\n",
       "</table>\n",
       "</div>"
      ],
      "text/plain": [
       "   Unnamed: 0         User Name    Heading  Rating  \\\n",
       "0           0      Diptanu Paul  Just wow!       5   \n",
       "1           1    Sachin Pashte     Awesome       5   \n",
       "2           2  Arunangshu Banik  Just wow!       5   \n",
       "\n",
       "                                                                                                                                                                                                                                                                                                                                                          Review  \n",
       "0  This Is My Second Low Budget Mi Phone. First One Was 5A. I'm In Love With This Brand. Let's Talk About This One...Design : Awesome (Green Is Killer, Red Is Also Super.)Battery : Awesome. (2 Days Backup For Normal Users, 1 Day For Heavy Users.)Camera : Good. (Not Bad At All, It's Fine.)Display : Good. (Use Auto Brightness In Outdoor.)Heating Pro...  \n",
       "1  Overall, the screen of the Redmi 8 is pretty good considering its a sub-Rs 10,000 price phone. Besides being a bright screen it is also bigger compared to what we saw in earlier comparable Redmi phones. The Redmi 8 comes with a 6.22-inch HD+ IPS display. It has screen resolution of 1520x720 pixels.Battery backup is not good like 5000 mh battery...  \n",
       "2                                                                                                                                                                                                     I am spellbound after seeing this.What a value of money ... love you MI 🎊😍😘 ...and also the package delivery service and packing was quite good .READ MORE  "
      ]
     },
     "execution_count": 77,
     "metadata": {},
     "output_type": "execute_result"
    }
   ],
   "source": [
    "df.head(3)"
   ]
  },
  {
   "cell_type": "code",
   "execution_count": 78,
   "metadata": {},
   "outputs": [
    {
     "data": {
      "text/plain": [
       "pandas.core.frame.DataFrame"
      ]
     },
     "execution_count": 78,
     "metadata": {},
     "output_type": "execute_result"
    }
   ],
   "source": [
    "type(df.head(1))"
   ]
  },
  {
   "cell_type": "code",
   "execution_count": 79,
   "metadata": {},
   "outputs": [
    {
     "name": "stdout",
     "output_type": "stream",
     "text": [
      "(500, 5)\n",
      "Unnamed: 0     int64\n",
      "User Name     object\n",
      "Heading       object\n",
      "Rating         int64\n",
      "Review        object\n",
      "dtype: object\n"
     ]
    }
   ],
   "source": [
    "print(df.shape)\n",
    "print(df.dtypes)"
   ]
  },
  {
   "cell_type": "code",
   "execution_count": 80,
   "metadata": {},
   "outputs": [
    {
     "data": {
      "text/plain": [
       "Index(['Unnamed: 0', 'User Name', 'Heading', 'Rating', 'Review'], dtype='object')"
      ]
     },
     "execution_count": 80,
     "metadata": {},
     "output_type": "execute_result"
    }
   ],
   "source": [
    "df.columns"
   ]
  },
  {
   "cell_type": "code",
   "execution_count": 81,
   "metadata": {},
   "outputs": [
    {
     "data": {
      "text/html": [
       "<div>\n",
       "<style scoped>\n",
       "    .dataframe tbody tr th:only-of-type {\n",
       "        vertical-align: middle;\n",
       "    }\n",
       "\n",
       "    .dataframe tbody tr th {\n",
       "        vertical-align: top;\n",
       "    }\n",
       "\n",
       "    .dataframe thead th {\n",
       "        text-align: right;\n",
       "    }\n",
       "</style>\n",
       "<table border=\"1\" class=\"dataframe\">\n",
       "  <thead>\n",
       "    <tr style=\"text-align: right;\">\n",
       "      <th></th>\n",
       "      <th>Unnamed: 0</th>\n",
       "      <th>Rating</th>\n",
       "    </tr>\n",
       "  </thead>\n",
       "  <tbody>\n",
       "    <tr>\n",
       "      <th>count</th>\n",
       "      <td>500.000000</td>\n",
       "      <td>500.000000</td>\n",
       "    </tr>\n",
       "    <tr>\n",
       "      <th>mean</th>\n",
       "      <td>249.500000</td>\n",
       "      <td>4.534000</td>\n",
       "    </tr>\n",
       "    <tr>\n",
       "      <th>std</th>\n",
       "      <td>144.481833</td>\n",
       "      <td>0.835608</td>\n",
       "    </tr>\n",
       "    <tr>\n",
       "      <th>min</th>\n",
       "      <td>0.000000</td>\n",
       "      <td>1.000000</td>\n",
       "    </tr>\n",
       "    <tr>\n",
       "      <th>25%</th>\n",
       "      <td>124.750000</td>\n",
       "      <td>4.000000</td>\n",
       "    </tr>\n",
       "    <tr>\n",
       "      <th>50%</th>\n",
       "      <td>249.500000</td>\n",
       "      <td>5.000000</td>\n",
       "    </tr>\n",
       "    <tr>\n",
       "      <th>75%</th>\n",
       "      <td>374.250000</td>\n",
       "      <td>5.000000</td>\n",
       "    </tr>\n",
       "    <tr>\n",
       "      <th>max</th>\n",
       "      <td>499.000000</td>\n",
       "      <td>5.000000</td>\n",
       "    </tr>\n",
       "  </tbody>\n",
       "</table>\n",
       "</div>"
      ],
      "text/plain": [
       "       Unnamed: 0      Rating\n",
       "count  500.000000  500.000000\n",
       "mean   249.500000    4.534000\n",
       "std    144.481833    0.835608\n",
       "min      0.000000    1.000000\n",
       "25%    124.750000    4.000000\n",
       "50%    249.500000    5.000000\n",
       "75%    374.250000    5.000000\n",
       "max    499.000000    5.000000"
      ]
     },
     "execution_count": 81,
     "metadata": {},
     "output_type": "execute_result"
    }
   ],
   "source": [
    "df.describe()"
   ]
  },
  {
   "cell_type": "code",
   "execution_count": 82,
   "metadata": {},
   "outputs": [
    {
     "data": {
      "text/plain": [
       "0         Just wow!\n",
       "1           Awesome\n",
       "2         Just wow!\n",
       "3           Awesome\n",
       "4          Terrific\n",
       "           ...     \n",
       "495       Wonderful\n",
       "496         Awesome\n",
       "497    Nice product\n",
       "498       Very Good\n",
       "499       Very Good\n",
       "Name: Heading, Length: 500, dtype: object"
      ]
     },
     "execution_count": 82,
     "metadata": {},
     "output_type": "execute_result"
    }
   ],
   "source": [
    "df.Heading"
   ]
  },
  {
   "cell_type": "code",
   "execution_count": 83,
   "metadata": {},
   "outputs": [
    {
     "data": {
      "text/plain": [
       "Unnamed: 0    0\n",
       "User Name     0\n",
       "Heading       0\n",
       "Rating        0\n",
       "Review        0\n",
       "dtype: int64"
      ]
     },
     "execution_count": 83,
     "metadata": {},
     "output_type": "execute_result"
    }
   ],
   "source": [
    "df.isnull().sum()"
   ]
  },
  {
   "cell_type": "code",
   "execution_count": 84,
   "metadata": {},
   "outputs": [
    {
     "data": {
      "text/plain": [
       "Unnamed: 0                                                                                                                     10\n",
       "User Name                                                                                                          Subhajit kundu\n",
       "Heading                                                                                                                 Excellent\n",
       "Rating                                                                                                                          5\n",
       "Review        Stunning look 5camera good 4Battery powerful performance 5Android pie 5Display awesome 5 Value for money 5READ MORE\n",
       "Name: 10, dtype: object"
      ]
     },
     "execution_count": 84,
     "metadata": {},
     "output_type": "execute_result"
    }
   ],
   "source": [
    "df.iloc[10]"
   ]
  },
  {
   "cell_type": "code",
   "execution_count": 85,
   "metadata": {},
   "outputs": [
    {
     "data": {
      "text/plain": [
       "RangeIndex(start=0, stop=500, step=1)"
      ]
     },
     "execution_count": 85,
     "metadata": {},
     "output_type": "execute_result"
    }
   ],
   "source": [
    "df.index"
   ]
  },
  {
   "cell_type": "code",
   "execution_count": 86,
   "metadata": {},
   "outputs": [
    {
     "data": {
      "text/plain": [
       "0       True\n",
       "1       True\n",
       "2       True\n",
       "3       True\n",
       "4       True\n",
       "       ...  \n",
       "495    False\n",
       "496     True\n",
       "497    False\n",
       "498    False\n",
       "499    False\n",
       "Name: Rating, Length: 500, dtype: bool"
      ]
     },
     "execution_count": 86,
     "metadata": {},
     "output_type": "execute_result"
    }
   ],
   "source": [
    "df.Rating >= 5"
   ]
  },
  {
   "cell_type": "code",
   "execution_count": 87,
   "metadata": {
    "scrolled": false
   },
   "outputs": [
    {
     "data": {
      "text/html": [
       "<div>\n",
       "<style scoped>\n",
       "    .dataframe tbody tr th:only-of-type {\n",
       "        vertical-align: middle;\n",
       "    }\n",
       "\n",
       "    .dataframe tbody tr th {\n",
       "        vertical-align: top;\n",
       "    }\n",
       "\n",
       "    .dataframe thead th {\n",
       "        text-align: right;\n",
       "    }\n",
       "</style>\n",
       "<table border=\"1\" class=\"dataframe\">\n",
       "  <thead>\n",
       "    <tr style=\"text-align: right;\">\n",
       "      <th></th>\n",
       "      <th>User Name</th>\n",
       "      <th>Heading</th>\n",
       "      <th>Rating</th>\n",
       "      <th>Review</th>\n",
       "    </tr>\n",
       "  </thead>\n",
       "  <tbody>\n",
       "    <tr>\n",
       "      <th>0</th>\n",
       "      <td>Diptanu Paul</td>\n",
       "      <td>Just wow!</td>\n",
       "      <td>5</td>\n",
       "      <td>This Is My Second Low Budget Mi Phone. First One Was 5A. I'm In Love With This Brand. Let's Talk About This One...Design : Awesome (Green Is Killer, Red Is Also Super.)Battery : Awesome. (2 Days Backup For Normal Users, 1 Day For Heavy Users.)Camera : Good. (Not Bad At All, It's Fine.)Display : Good. (Use Auto Brightness In Outdoor.)Heating Pro...</td>\n",
       "    </tr>\n",
       "    <tr>\n",
       "      <th>1</th>\n",
       "      <td>Sachin Pashte</td>\n",
       "      <td>Awesome</td>\n",
       "      <td>5</td>\n",
       "      <td>Overall, the screen of the Redmi 8 is pretty good considering its a sub-Rs 10,000 price phone. Besides being a bright screen it is also bigger compared to what we saw in earlier comparable Redmi phones. The Redmi 8 comes with a 6.22-inch HD+ IPS display. It has screen resolution of 1520x720 pixels.Battery backup is not good like 5000 mh battery...</td>\n",
       "    </tr>\n",
       "    <tr>\n",
       "      <th>2</th>\n",
       "      <td>Arunangshu Banik</td>\n",
       "      <td>Just wow!</td>\n",
       "      <td>5</td>\n",
       "      <td>I am spellbound after seeing this.What a value of money ... love you MI 🎊😍😘 ...and also the package delivery service and packing was quite good .READ MORE</td>\n",
       "    </tr>\n",
       "    <tr>\n",
       "      <th>3</th>\n",
       "      <td>PRINCE  SEBASTIAN</td>\n",
       "      <td>Awesome</td>\n",
       "      <td>5</td>\n",
       "      <td>Very good phone...nice display and  long battery life ,, good camera, 4gb Ram, large storage... decent price... highly recommendREAD MORE</td>\n",
       "    </tr>\n",
       "    <tr>\n",
       "      <th>4</th>\n",
       "      <td>Hari Chandana Petli</td>\n",
       "      <td>Terrific</td>\n",
       "      <td>5</td>\n",
       "      <td>Awesome mobile. I've purchased it for my Mom🥰... She is very happy with this SURPRISE... Guys don't take any Option and make it as a Selection... Wonderful Mobile 🤩READ MORE</td>\n",
       "    </tr>\n",
       "    <tr>\n",
       "      <th>...</th>\n",
       "      <td>...</td>\n",
       "      <td>...</td>\n",
       "      <td>...</td>\n",
       "      <td>...</td>\n",
       "    </tr>\n",
       "    <tr>\n",
       "      <th>495</th>\n",
       "      <td>Ankit Gupta</td>\n",
       "      <td>Wonderful</td>\n",
       "      <td>4</td>\n",
       "      <td>better option available in this price like realme U1 its feel very heavy realme U1 is best device because is very nice finishing and also go for it realme is only realREAD MORE</td>\n",
       "    </tr>\n",
       "    <tr>\n",
       "      <th>496</th>\n",
       "      <td>John Rogue</td>\n",
       "      <td>Awesome</td>\n",
       "      <td>5</td>\n",
       "      <td>Great mobile, awesome battery backup. Really good for day to day use. Not a camera phone, but it will get the job done. Got it for 6500 with exchange of an old device. Really worth the money.READ MORE</td>\n",
       "    </tr>\n",
       "    <tr>\n",
       "      <th>497</th>\n",
       "      <td>Meet  Shah</td>\n",
       "      <td>Nice product</td>\n",
       "      <td>4</td>\n",
       "      <td>Very Good Smart Budget Phone at this price... features having Fast Charging C Port, 5000 mAh Battery, Dual Camera Setup, 4GB 64GB storage makes this phone more stronger than others in same price category. Camera and Processor Performance could be better, weight is more(due to 5000mAh battery)  although very well featured budget oriented, beauti...</td>\n",
       "    </tr>\n",
       "    <tr>\n",
       "      <th>498</th>\n",
       "      <td>Flipkart Customer</td>\n",
       "      <td>Very Good</td>\n",
       "      <td>4</td>\n",
       "      <td>alwya want to shop only on Flipkart , because of detailed information n understanding of product with genuine quality n fast delivery...again purchase smartphone from Flipkart , ..awesome , genuine fast delivery , and again to say , Flipkart always rocks ....READ MORE</td>\n",
       "    </tr>\n",
       "    <tr>\n",
       "      <th>499</th>\n",
       "      <td>ABHAY SINGH</td>\n",
       "      <td>Very Good</td>\n",
       "      <td>4</td>\n",
       "      <td>Nice product with affordable price, thanks Xiaomi. Best all-around in 8k segment.READ MORE</td>\n",
       "    </tr>\n",
       "  </tbody>\n",
       "</table>\n",
       "<p>500 rows × 4 columns</p>\n",
       "</div>"
      ],
      "text/plain": [
       "               User Name       Heading  Rating  \\\n",
       "0           Diptanu Paul     Just wow!       5   \n",
       "1         Sachin Pashte        Awesome       5   \n",
       "2       Arunangshu Banik     Just wow!       5   \n",
       "3      PRINCE  SEBASTIAN       Awesome       5   \n",
       "4    Hari Chandana Petli      Terrific       5   \n",
       "..                   ...           ...     ...   \n",
       "495          Ankit Gupta     Wonderful       4   \n",
       "496           John Rogue       Awesome       5   \n",
       "497           Meet  Shah  Nice product       4   \n",
       "498    Flipkart Customer     Very Good       4   \n",
       "499          ABHAY SINGH     Very Good       4   \n",
       "\n",
       "                                                                                                                                                                                                                                                                                                                                                            Review  \n",
       "0    This Is My Second Low Budget Mi Phone. First One Was 5A. I'm In Love With This Brand. Let's Talk About This One...Design : Awesome (Green Is Killer, Red Is Also Super.)Battery : Awesome. (2 Days Backup For Normal Users, 1 Day For Heavy Users.)Camera : Good. (Not Bad At All, It's Fine.)Display : Good. (Use Auto Brightness In Outdoor.)Heating Pro...  \n",
       "1    Overall, the screen of the Redmi 8 is pretty good considering its a sub-Rs 10,000 price phone. Besides being a bright screen it is also bigger compared to what we saw in earlier comparable Redmi phones. The Redmi 8 comes with a 6.22-inch HD+ IPS display. It has screen resolution of 1520x720 pixels.Battery backup is not good like 5000 mh battery...  \n",
       "2                                                                                                                                                                                                       I am spellbound after seeing this.What a value of money ... love you MI 🎊😍😘 ...and also the package delivery service and packing was quite good .READ MORE  \n",
       "3                                                                                                                                                                                                                        Very good phone...nice display and  long battery life ,, good camera, 4gb Ram, large storage... decent price... highly recommendREAD MORE  \n",
       "4                                                                                                                                                                                    Awesome mobile. I've purchased it for my Mom🥰... She is very happy with this SURPRISE... Guys don't take any Option and make it as a Selection... Wonderful Mobile 🤩READ MORE  \n",
       "..                                                                                                                                                                                                                                                                                                                                                             ...  \n",
       "495                                                                                                                                                                               better option available in this price like realme U1 its feel very heavy realme U1 is best device because is very nice finishing and also go for it realme is only realREAD MORE  \n",
       "496                                                                                                                                                       Great mobile, awesome battery backup. Really good for day to day use. Not a camera phone, but it will get the job done. Got it for 6500 with exchange of an old device. Really worth the money.READ MORE  \n",
       "497  Very Good Smart Budget Phone at this price... features having Fast Charging C Port, 5000 mAh Battery, Dual Camera Setup, 4GB 64GB storage makes this phone more stronger than others in same price category. Camera and Processor Performance could be better, weight is more(due to 5000mAh battery)  although very well featured budget oriented, beauti...  \n",
       "498                                                                                   alwya want to shop only on Flipkart , because of detailed information n understanding of product with genuine quality n fast delivery...again purchase smartphone from Flipkart , ..awesome , genuine fast delivery , and again to say , Flipkart always rocks ....READ MORE  \n",
       "499                                                                                                                                                                                                                                                                     Nice product with affordable price, thanks Xiaomi. Best all-around in 8k segment.READ MORE  \n",
       "\n",
       "[500 rows x 4 columns]"
      ]
     },
     "execution_count": 87,
     "metadata": {},
     "output_type": "execute_result"
    }
   ],
   "source": [
    "df = df.drop(columns=\"Unnamed: 0\")\n",
    "df"
   ]
  },
  {
   "cell_type": "code",
   "execution_count": 88,
   "metadata": {},
   "outputs": [
    {
     "data": {
      "text/plain": [
       "User Name                                                                                                                                                                                                                                                                                                                                                   Sachin Pashte \n",
       "Heading                                                                                                                                                                                                                                                                                                                                                            Awesome\n",
       "Rating                                                                                                                                                                                                                                                                                                                                                                   5\n",
       "Review       Overall, the screen of the Redmi 8 is pretty good considering its a sub-Rs 10,000 price phone. Besides being a bright screen it is also bigger compared to what we saw in earlier comparable Redmi phones. The Redmi 8 comes with a 6.22-inch HD+ IPS display. It has screen resolution of 1520x720 pixels.Battery backup is not good like 5000 mh battery...\n",
       "Name: 1, dtype: object"
      ]
     },
     "execution_count": 88,
     "metadata": {},
     "output_type": "execute_result"
    }
   ],
   "source": [
    "df.iloc[1]"
   ]
  },
  {
   "cell_type": "code",
   "execution_count": 89,
   "metadata": {},
   "outputs": [
    {
     "data": {
      "text/html": [
       "<div>\n",
       "<style scoped>\n",
       "    .dataframe tbody tr th:only-of-type {\n",
       "        vertical-align: middle;\n",
       "    }\n",
       "\n",
       "    .dataframe tbody tr th {\n",
       "        vertical-align: top;\n",
       "    }\n",
       "\n",
       "    .dataframe thead th {\n",
       "        text-align: right;\n",
       "    }\n",
       "</style>\n",
       "<table border=\"1\" class=\"dataframe\">\n",
       "  <thead>\n",
       "    <tr style=\"text-align: right;\">\n",
       "      <th></th>\n",
       "      <th>User Name</th>\n",
       "      <th>Heading</th>\n",
       "      <th>Rating</th>\n",
       "      <th>Review</th>\n",
       "    </tr>\n",
       "  </thead>\n",
       "  <tbody>\n",
       "    <tr>\n",
       "      <th>0</th>\n",
       "      <td>Diptanu Paul</td>\n",
       "      <td>Just wow!</td>\n",
       "      <td>5</td>\n",
       "      <td>This Is My Second Low Budget Mi Phone. First One Was 5A. I'm In Love With This Brand. Let's Talk About This One...Design : Awesome (Green Is Killer, Red Is Also Super.)Battery : Awesome. (2 Days Backup For Normal Users, 1 Day For Heavy Users.)Camera : Good. (Not Bad At All, It's Fine.)Display : Good. (Use Auto Brightness In Outdoor.)Heating Pro...</td>\n",
       "    </tr>\n",
       "    <tr>\n",
       "      <th>1</th>\n",
       "      <td>Sachin Pashte</td>\n",
       "      <td>Awesome</td>\n",
       "      <td>5</td>\n",
       "      <td>Overall, the screen of the Redmi 8 is pretty good considering its a sub-Rs 10,000 price phone. Besides being a bright screen it is also bigger compared to what we saw in earlier comparable Redmi phones. The Redmi 8 comes with a 6.22-inch HD+ IPS display. It has screen resolution of 1520x720 pixels.Battery backup is not good like 5000 mh battery...</td>\n",
       "    </tr>\n",
       "    <tr>\n",
       "      <th>2</th>\n",
       "      <td>Arunangshu Banik</td>\n",
       "      <td>Just wow!</td>\n",
       "      <td>5</td>\n",
       "      <td>I am spellbound after seeing this.What a value of money ... love you MI 🎊😍😘 ...and also the package delivery service and packing was quite good .READ MORE</td>\n",
       "    </tr>\n",
       "    <tr>\n",
       "      <th>3</th>\n",
       "      <td>PRINCE  SEBASTIAN</td>\n",
       "      <td>Awesome</td>\n",
       "      <td>5</td>\n",
       "      <td>Very good phone...nice display and  long battery life ,, good camera, 4gb Ram, large storage... decent price... highly recommendREAD MORE</td>\n",
       "    </tr>\n",
       "    <tr>\n",
       "      <th>4</th>\n",
       "      <td>Hari Chandana Petli</td>\n",
       "      <td>Terrific</td>\n",
       "      <td>5</td>\n",
       "      <td>Awesome mobile. I've purchased it for my Mom🥰... She is very happy with this SURPRISE... Guys don't take any Option and make it as a Selection... Wonderful Mobile 🤩READ MORE</td>\n",
       "    </tr>\n",
       "    <tr>\n",
       "      <th>...</th>\n",
       "      <td>...</td>\n",
       "      <td>...</td>\n",
       "      <td>...</td>\n",
       "      <td>...</td>\n",
       "    </tr>\n",
       "    <tr>\n",
       "      <th>495</th>\n",
       "      <td>Ankit Gupta</td>\n",
       "      <td>Wonderful</td>\n",
       "      <td>4</td>\n",
       "      <td>better option available in this price like realme U1 its feel very heavy realme U1 is best device because is very nice finishing and also go for it realme is only realREAD MORE</td>\n",
       "    </tr>\n",
       "    <tr>\n",
       "      <th>496</th>\n",
       "      <td>John Rogue</td>\n",
       "      <td>Awesome</td>\n",
       "      <td>5</td>\n",
       "      <td>Great mobile, awesome battery backup. Really good for day to day use. Not a camera phone, but it will get the job done. Got it for 6500 with exchange of an old device. Really worth the money.READ MORE</td>\n",
       "    </tr>\n",
       "    <tr>\n",
       "      <th>497</th>\n",
       "      <td>Meet  Shah</td>\n",
       "      <td>Nice product</td>\n",
       "      <td>4</td>\n",
       "      <td>Very Good Smart Budget Phone at this price... features having Fast Charging C Port, 5000 mAh Battery, Dual Camera Setup, 4GB 64GB storage makes this phone more stronger than others in same price category. Camera and Processor Performance could be better, weight is more(due to 5000mAh battery)  although very well featured budget oriented, beauti...</td>\n",
       "    </tr>\n",
       "    <tr>\n",
       "      <th>498</th>\n",
       "      <td>Flipkart Customer</td>\n",
       "      <td>Very Good</td>\n",
       "      <td>4</td>\n",
       "      <td>alwya want to shop only on Flipkart , because of detailed information n understanding of product with genuine quality n fast delivery...again purchase smartphone from Flipkart , ..awesome , genuine fast delivery , and again to say , Flipkart always rocks ....READ MORE</td>\n",
       "    </tr>\n",
       "    <tr>\n",
       "      <th>499</th>\n",
       "      <td>ABHAY SINGH</td>\n",
       "      <td>Very Good</td>\n",
       "      <td>4</td>\n",
       "      <td>Nice product with affordable price, thanks Xiaomi. Best all-around in 8k segment.READ MORE</td>\n",
       "    </tr>\n",
       "  </tbody>\n",
       "</table>\n",
       "<p>500 rows × 4 columns</p>\n",
       "</div>"
      ],
      "text/plain": [
       "               User Name       Heading  Rating  \\\n",
       "0           Diptanu Paul     Just wow!       5   \n",
       "1         Sachin Pashte        Awesome       5   \n",
       "2       Arunangshu Banik     Just wow!       5   \n",
       "3      PRINCE  SEBASTIAN       Awesome       5   \n",
       "4    Hari Chandana Petli      Terrific       5   \n",
       "..                   ...           ...     ...   \n",
       "495          Ankit Gupta     Wonderful       4   \n",
       "496           John Rogue       Awesome       5   \n",
       "497           Meet  Shah  Nice product       4   \n",
       "498    Flipkart Customer     Very Good       4   \n",
       "499          ABHAY SINGH     Very Good       4   \n",
       "\n",
       "                                                                                                                                                                                                                                                                                                                                                            Review  \n",
       "0    This Is My Second Low Budget Mi Phone. First One Was 5A. I'm In Love With This Brand. Let's Talk About This One...Design : Awesome (Green Is Killer, Red Is Also Super.)Battery : Awesome. (2 Days Backup For Normal Users, 1 Day For Heavy Users.)Camera : Good. (Not Bad At All, It's Fine.)Display : Good. (Use Auto Brightness In Outdoor.)Heating Pro...  \n",
       "1    Overall, the screen of the Redmi 8 is pretty good considering its a sub-Rs 10,000 price phone. Besides being a bright screen it is also bigger compared to what we saw in earlier comparable Redmi phones. The Redmi 8 comes with a 6.22-inch HD+ IPS display. It has screen resolution of 1520x720 pixels.Battery backup is not good like 5000 mh battery...  \n",
       "2                                                                                                                                                                                                       I am spellbound after seeing this.What a value of money ... love you MI 🎊😍😘 ...and also the package delivery service and packing was quite good .READ MORE  \n",
       "3                                                                                                                                                                                                                        Very good phone...nice display and  long battery life ,, good camera, 4gb Ram, large storage... decent price... highly recommendREAD MORE  \n",
       "4                                                                                                                                                                                    Awesome mobile. I've purchased it for my Mom🥰... She is very happy with this SURPRISE... Guys don't take any Option and make it as a Selection... Wonderful Mobile 🤩READ MORE  \n",
       "..                                                                                                                                                                                                                                                                                                                                                             ...  \n",
       "495                                                                                                                                                                               better option available in this price like realme U1 its feel very heavy realme U1 is best device because is very nice finishing and also go for it realme is only realREAD MORE  \n",
       "496                                                                                                                                                       Great mobile, awesome battery backup. Really good for day to day use. Not a camera phone, but it will get the job done. Got it for 6500 with exchange of an old device. Really worth the money.READ MORE  \n",
       "497  Very Good Smart Budget Phone at this price... features having Fast Charging C Port, 5000 mAh Battery, Dual Camera Setup, 4GB 64GB storage makes this phone more stronger than others in same price category. Camera and Processor Performance could be better, weight is more(due to 5000mAh battery)  although very well featured budget oriented, beauti...  \n",
       "498                                                                                   alwya want to shop only on Flipkart , because of detailed information n understanding of product with genuine quality n fast delivery...again purchase smartphone from Flipkart , ..awesome , genuine fast delivery , and again to say , Flipkart always rocks ....READ MORE  \n",
       "499                                                                                                                                                                                                                                                                     Nice product with affordable price, thanks Xiaomi. Best all-around in 8k segment.READ MORE  \n",
       "\n",
       "[500 rows x 4 columns]"
      ]
     },
     "execution_count": 89,
     "metadata": {},
     "output_type": "execute_result"
    }
   ],
   "source": [
    "df"
   ]
  },
  {
   "cell_type": "code",
   "execution_count": 90,
   "metadata": {},
   "outputs": [],
   "source": [
    "temp = df.copy()"
   ]
  },
  {
   "cell_type": "code",
   "execution_count": 91,
   "metadata": {
    "scrolled": true
   },
   "outputs": [
    {
     "data": {
      "text/html": [
       "<div>\n",
       "<style scoped>\n",
       "    .dataframe tbody tr th:only-of-type {\n",
       "        vertical-align: middle;\n",
       "    }\n",
       "\n",
       "    .dataframe tbody tr th {\n",
       "        vertical-align: top;\n",
       "    }\n",
       "\n",
       "    .dataframe thead th {\n",
       "        text-align: right;\n",
       "    }\n",
       "</style>\n",
       "<table border=\"1\" class=\"dataframe\">\n",
       "  <thead>\n",
       "    <tr style=\"text-align: right;\">\n",
       "      <th></th>\n",
       "      <th>User Name</th>\n",
       "      <th>Heading</th>\n",
       "      <th>Rating</th>\n",
       "      <th>Review</th>\n",
       "    </tr>\n",
       "  </thead>\n",
       "  <tbody>\n",
       "    <tr>\n",
       "      <th>0</th>\n",
       "      <td>Diptanu Paul</td>\n",
       "      <td>Just wow!</td>\n",
       "      <td>5</td>\n",
       "      <td>This Is My Second Low Budget Mi Phone. First One Was 5A. I'm In Love With This Brand. Let's Talk About This One...Design : Awesome (Green Is Killer, Red Is Also Super.)Battery : Awesome. (2 Days Backup For Normal Users, 1 Day For Heavy Users.)Camera : Good. (Not Bad At All, It's Fine.)Display : Good. (Use Auto Brightness In Outdoor.)Heating Pro...</td>\n",
       "    </tr>\n",
       "    <tr>\n",
       "      <th>1</th>\n",
       "      <td>Sachin Pashte</td>\n",
       "      <td>Awesome</td>\n",
       "      <td>5</td>\n",
       "      <td>Overall, the screen of the Redmi 8 is pretty good considering its a sub-Rs 10,000 price phone. Besides being a bright screen it is also bigger compared to what we saw in earlier comparable Redmi phones. The Redmi 8 comes with a 6.22-inch HD+ IPS display. It has screen resolution of 1520x720 pixels.Battery backup is not good like 5000 mh battery...</td>\n",
       "    </tr>\n",
       "    <tr>\n",
       "      <th>2</th>\n",
       "      <td>Arunangshu Banik</td>\n",
       "      <td>Just wow!</td>\n",
       "      <td>5</td>\n",
       "      <td>I am spellbound after seeing this.What a value of money ... love you MI 🎊😍😘 ...and also the package delivery service and packing was quite good .READ MORE</td>\n",
       "    </tr>\n",
       "    <tr>\n",
       "      <th>3</th>\n",
       "      <td>PRINCE  SEBASTIAN</td>\n",
       "      <td>Awesome</td>\n",
       "      <td>5</td>\n",
       "      <td>Very good phone...nice display and  long battery life ,, good camera, 4gb Ram, large storage... decent price... highly recommendREAD MORE</td>\n",
       "    </tr>\n",
       "    <tr>\n",
       "      <th>4</th>\n",
       "      <td>Hari Chandana Petli</td>\n",
       "      <td>Terrific</td>\n",
       "      <td>5</td>\n",
       "      <td>Awesome mobile. I've purchased it for my Mom🥰... She is very happy with this SURPRISE... Guys don't take any Option and make it as a Selection... Wonderful Mobile 🤩READ MORE</td>\n",
       "    </tr>\n",
       "    <tr>\n",
       "      <th>...</th>\n",
       "      <td>...</td>\n",
       "      <td>...</td>\n",
       "      <td>...</td>\n",
       "      <td>...</td>\n",
       "    </tr>\n",
       "    <tr>\n",
       "      <th>495</th>\n",
       "      <td>Ankit Gupta</td>\n",
       "      <td>Wonderful</td>\n",
       "      <td>4</td>\n",
       "      <td>better option available in this price like realme U1 its feel very heavy realme U1 is best device because is very nice finishing and also go for it realme is only realREAD MORE</td>\n",
       "    </tr>\n",
       "    <tr>\n",
       "      <th>496</th>\n",
       "      <td>John Rogue</td>\n",
       "      <td>Awesome</td>\n",
       "      <td>5</td>\n",
       "      <td>Great mobile, awesome battery backup. Really good for day to day use. Not a camera phone, but it will get the job done. Got it for 6500 with exchange of an old device. Really worth the money.READ MORE</td>\n",
       "    </tr>\n",
       "    <tr>\n",
       "      <th>497</th>\n",
       "      <td>Meet  Shah</td>\n",
       "      <td>Nice product</td>\n",
       "      <td>4</td>\n",
       "      <td>Very Good Smart Budget Phone at this price... features having Fast Charging C Port, 5000 mAh Battery, Dual Camera Setup, 4GB 64GB storage makes this phone more stronger than others in same price category. Camera and Processor Performance could be better, weight is more(due to 5000mAh battery)  although very well featured budget oriented, beauti...</td>\n",
       "    </tr>\n",
       "    <tr>\n",
       "      <th>498</th>\n",
       "      <td>Flipkart Customer</td>\n",
       "      <td>Very Good</td>\n",
       "      <td>4</td>\n",
       "      <td>alwya want to shop only on Flipkart , because of detailed information n understanding of product with genuine quality n fast delivery...again purchase smartphone from Flipkart , ..awesome , genuine fast delivery , and again to say , Flipkart always rocks ....READ MORE</td>\n",
       "    </tr>\n",
       "    <tr>\n",
       "      <th>499</th>\n",
       "      <td>ABHAY SINGH</td>\n",
       "      <td>Very Good</td>\n",
       "      <td>4</td>\n",
       "      <td>Nice product with affordable price, thanks Xiaomi. Best all-around in 8k segment.READ MORE</td>\n",
       "    </tr>\n",
       "  </tbody>\n",
       "</table>\n",
       "<p>500 rows × 4 columns</p>\n",
       "</div>"
      ],
      "text/plain": [
       "               User Name       Heading  Rating  \\\n",
       "0           Diptanu Paul     Just wow!       5   \n",
       "1         Sachin Pashte        Awesome       5   \n",
       "2       Arunangshu Banik     Just wow!       5   \n",
       "3      PRINCE  SEBASTIAN       Awesome       5   \n",
       "4    Hari Chandana Petli      Terrific       5   \n",
       "..                   ...           ...     ...   \n",
       "495          Ankit Gupta     Wonderful       4   \n",
       "496           John Rogue       Awesome       5   \n",
       "497           Meet  Shah  Nice product       4   \n",
       "498    Flipkart Customer     Very Good       4   \n",
       "499          ABHAY SINGH     Very Good       4   \n",
       "\n",
       "                                                                                                                                                                                                                                                                                                                                                            Review  \n",
       "0    This Is My Second Low Budget Mi Phone. First One Was 5A. I'm In Love With This Brand. Let's Talk About This One...Design : Awesome (Green Is Killer, Red Is Also Super.)Battery : Awesome. (2 Days Backup For Normal Users, 1 Day For Heavy Users.)Camera : Good. (Not Bad At All, It's Fine.)Display : Good. (Use Auto Brightness In Outdoor.)Heating Pro...  \n",
       "1    Overall, the screen of the Redmi 8 is pretty good considering its a sub-Rs 10,000 price phone. Besides being a bright screen it is also bigger compared to what we saw in earlier comparable Redmi phones. The Redmi 8 comes with a 6.22-inch HD+ IPS display. It has screen resolution of 1520x720 pixels.Battery backup is not good like 5000 mh battery...  \n",
       "2                                                                                                                                                                                                       I am spellbound after seeing this.What a value of money ... love you MI 🎊😍😘 ...and also the package delivery service and packing was quite good .READ MORE  \n",
       "3                                                                                                                                                                                                                        Very good phone...nice display and  long battery life ,, good camera, 4gb Ram, large storage... decent price... highly recommendREAD MORE  \n",
       "4                                                                                                                                                                                    Awesome mobile. I've purchased it for my Mom🥰... She is very happy with this SURPRISE... Guys don't take any Option and make it as a Selection... Wonderful Mobile 🤩READ MORE  \n",
       "..                                                                                                                                                                                                                                                                                                                                                             ...  \n",
       "495                                                                                                                                                                               better option available in this price like realme U1 its feel very heavy realme U1 is best device because is very nice finishing and also go for it realme is only realREAD MORE  \n",
       "496                                                                                                                                                       Great mobile, awesome battery backup. Really good for day to day use. Not a camera phone, but it will get the job done. Got it for 6500 with exchange of an old device. Really worth the money.READ MORE  \n",
       "497  Very Good Smart Budget Phone at this price... features having Fast Charging C Port, 5000 mAh Battery, Dual Camera Setup, 4GB 64GB storage makes this phone more stronger than others in same price category. Camera and Processor Performance could be better, weight is more(due to 5000mAh battery)  although very well featured budget oriented, beauti...  \n",
       "498                                                                                   alwya want to shop only on Flipkart , because of detailed information n understanding of product with genuine quality n fast delivery...again purchase smartphone from Flipkart , ..awesome , genuine fast delivery , and again to say , Flipkart always rocks ....READ MORE  \n",
       "499                                                                                                                                                                                                                                                                     Nice product with affordable price, thanks Xiaomi. Best all-around in 8k segment.READ MORE  \n",
       "\n",
       "[500 rows x 4 columns]"
      ]
     },
     "execution_count": 91,
     "metadata": {},
     "output_type": "execute_result"
    }
   ],
   "source": [
    "temp"
   ]
  },
  {
   "cell_type": "code",
   "execution_count": 92,
   "metadata": {},
   "outputs": [
    {
     "data": {
      "text/plain": [
       "User Name                                                                                                                                                                                                                                                                                                                                Kanishka Mudgal\n",
       "Heading                                                                                                                                                                                                                                                                                                                                    Great product\n",
       "Rating                                                                                                                                                                                                                                                                                                                                                 5\n",
       "Review       I got this phone within two days.. the delivery service was awesome, and the mobile is super Amazing 😍🙈. If you're planning to order this phone , go for the green colour as it is mesmerizing 💓💕My family and all my friends loved the colour too!!It comes with 4gb ram also in this price which is a bonus 🤓Just go for it.!!!🤘READ MORE\n",
       "Name: 20, dtype: object"
      ]
     },
     "execution_count": 92,
     "metadata": {},
     "output_type": "execute_result"
    }
   ],
   "source": [
    "temp.iloc[20]"
   ]
  },
  {
   "cell_type": "code",
   "execution_count": 100,
   "metadata": {},
   "outputs": [
    {
     "data": {
      "text/html": [
       "<div>\n",
       "<style scoped>\n",
       "    .dataframe tbody tr th:only-of-type {\n",
       "        vertical-align: middle;\n",
       "    }\n",
       "\n",
       "    .dataframe tbody tr th {\n",
       "        vertical-align: top;\n",
       "    }\n",
       "\n",
       "    .dataframe thead th {\n",
       "        text-align: right;\n",
       "    }\n",
       "</style>\n",
       "<table border=\"1\" class=\"dataframe\">\n",
       "  <thead>\n",
       "    <tr style=\"text-align: right;\">\n",
       "      <th></th>\n",
       "      <th>User Name</th>\n",
       "      <th>Heading</th>\n",
       "      <th>Rating</th>\n",
       "      <th>Review</th>\n",
       "    </tr>\n",
       "  </thead>\n",
       "  <tbody>\n",
       "    <tr>\n",
       "      <th>0</th>\n",
       "      <td>Diptanu Paul</td>\n",
       "      <td>just wow</td>\n",
       "      <td>5</td>\n",
       "      <td>this is my second low budget mi phone first one wasim in love with this brand lets talk about this onedesignawesome green is killer red is also superbatteryawesomedays backup for normal usersday for heavy userscameragood not bad at all its finedisplaygood use auto brightness in outdoorheating problemfine still no problemsoundawesome loud and cl...</td>\n",
       "    </tr>\n",
       "    <tr>\n",
       "      <th>1</th>\n",
       "      <td>Sachin Pashte</td>\n",
       "      <td>awesome</td>\n",
       "      <td>5</td>\n",
       "      <td>overall the screen of the redmiis pretty good considering its a subrsprice phone besides being a bright screen it is also bigger compared to what we saw in earlier comparable redmi phones the redmicomes with ahd ips display it has screen resolution ofpixelsbattery backup is not good likemh battery backup but not goodotherwise mobile is very goo...</td>\n",
       "    </tr>\n",
       "    <tr>\n",
       "      <th>2</th>\n",
       "      <td>Arunangshu Banik</td>\n",
       "      <td>just wow</td>\n",
       "      <td>5</td>\n",
       "      <td>i am spellbound after seeing thiswhat a value of moneylove you miand also the package delivery service and packing was quite good</td>\n",
       "    </tr>\n",
       "    <tr>\n",
       "      <th>3</th>\n",
       "      <td>PRINCE  SEBASTIAN</td>\n",
       "      <td>awesome</td>\n",
       "      <td>5</td>\n",
       "      <td>very good phonenice display andlong battery lifegood cameraram large storage decent price highly recommend</td>\n",
       "    </tr>\n",
       "    <tr>\n",
       "      <th>4</th>\n",
       "      <td>Hari Chandana Petli</td>\n",
       "      <td>terrific</td>\n",
       "      <td>5</td>\n",
       "      <td>awesome mobile ive purchased it for my mom she is very happy with this surprise guys dont take any option and make it as a selection wonderful mobile</td>\n",
       "    </tr>\n",
       "    <tr>\n",
       "      <th>...</th>\n",
       "      <td>...</td>\n",
       "      <td>...</td>\n",
       "      <td>...</td>\n",
       "      <td>...</td>\n",
       "    </tr>\n",
       "    <tr>\n",
       "      <th>495</th>\n",
       "      <td>Ankit Gupta</td>\n",
       "      <td>wonderful</td>\n",
       "      <td>4</td>\n",
       "      <td>better option available in this price like realmeits feel very heavy realmeis best device because is very nice finishing and also go for it realme is only real</td>\n",
       "    </tr>\n",
       "    <tr>\n",
       "      <th>496</th>\n",
       "      <td>John Rogue</td>\n",
       "      <td>awesome</td>\n",
       "      <td>5</td>\n",
       "      <td>great mobile awesome battery backup really good for day to day use not a camera phone but it will get the job done got it forwith exchange of an old device really worth the money</td>\n",
       "    </tr>\n",
       "    <tr>\n",
       "      <th>497</th>\n",
       "      <td>Meet  Shah</td>\n",
       "      <td>nice product</td>\n",
       "      <td>4</td>\n",
       "      <td>very good smart budget phone at this price features having fast charging c portmah battery dual camera setup storage makes this phone more stronger than others in same price category camera and processor performance could be better weight is moredue tobatteryalthough very well featured budget oriented beautiful styled balance smart phone at thi...</td>\n",
       "    </tr>\n",
       "    <tr>\n",
       "      <th>498</th>\n",
       "      <td>Flipkart Customer</td>\n",
       "      <td>very good</td>\n",
       "      <td>4</td>\n",
       "      <td>alwya want to shop only on flipkartbecause of detailed information n understanding of product with genuine quality n fast deliveryagain purchase smartphone from flipkartawesomegenuine fast deliveryand again to sayflipkart always rocks</td>\n",
       "    </tr>\n",
       "    <tr>\n",
       "      <th>499</th>\n",
       "      <td>ABHAY SINGH</td>\n",
       "      <td>very good</td>\n",
       "      <td>4</td>\n",
       "      <td>nice product with affordable price thanks xiaomi best allaround insegment</td>\n",
       "    </tr>\n",
       "  </tbody>\n",
       "</table>\n",
       "<p>500 rows × 4 columns</p>\n",
       "</div>"
      ],
      "text/plain": [
       "               User Name       Heading  Rating  \\\n",
       "0           Diptanu Paul      just wow       5   \n",
       "1         Sachin Pashte        awesome       5   \n",
       "2       Arunangshu Banik      just wow       5   \n",
       "3      PRINCE  SEBASTIAN       awesome       5   \n",
       "4    Hari Chandana Petli      terrific       5   \n",
       "..                   ...           ...     ...   \n",
       "495          Ankit Gupta     wonderful       4   \n",
       "496           John Rogue       awesome       5   \n",
       "497           Meet  Shah  nice product       4   \n",
       "498    Flipkart Customer     very good       4   \n",
       "499          ABHAY SINGH     very good       4   \n",
       "\n",
       "                                                                                                                                                                                                                                                                                                                                                            Review  \n",
       "0    this is my second low budget mi phone first one wasim in love with this brand lets talk about this onedesignawesome green is killer red is also superbatteryawesomedays backup for normal usersday for heavy userscameragood not bad at all its finedisplaygood use auto brightness in outdoorheating problemfine still no problemsoundawesome loud and cl...  \n",
       "1    overall the screen of the redmiis pretty good considering its a subrsprice phone besides being a bright screen it is also bigger compared to what we saw in earlier comparable redmi phones the redmicomes with ahd ips display it has screen resolution ofpixelsbattery backup is not good likemh battery backup but not goodotherwise mobile is very goo...  \n",
       "2                                                                                                                                                                                                                               i am spellbound after seeing thiswhat a value of moneylove you miand also the package delivery service and packing was quite good   \n",
       "3                                                                                                                                                                                                                                                       very good phonenice display andlong battery lifegood cameraram large storage decent price highly recommend  \n",
       "4                                                                                                                                                                                                           awesome mobile ive purchased it for my mom she is very happy with this surprise guys dont take any option and make it as a selection wonderful mobile   \n",
       "..                                                                                                                                                                                                                                                                                                                                                             ...  \n",
       "495                                                                                                                                                                                                better option available in this price like realmeits feel very heavy realmeis best device because is very nice finishing and also go for it realme is only real  \n",
       "496                                                                                                                                                                             great mobile awesome battery backup really good for day to day use not a camera phone but it will get the job done got it forwith exchange of an old device really worth the money  \n",
       "497  very good smart budget phone at this price features having fast charging c portmah battery dual camera setup storage makes this phone more stronger than others in same price category camera and processor performance could be better weight is moredue tobatteryalthough very well featured budget oriented beautiful styled balance smart phone at thi...  \n",
       "498                                                                                                                    alwya want to shop only on flipkartbecause of detailed information n understanding of product with genuine quality n fast deliveryagain purchase smartphone from flipkartawesomegenuine fast deliveryand again to sayflipkart always rocks   \n",
       "499                                                                                                                                                                                                                                                                                      nice product with affordable price thanks xiaomi best allaround insegment  \n",
       "\n",
       "[500 rows x 4 columns]"
      ]
     },
     "execution_count": 100,
     "metadata": {},
     "output_type": "execute_result"
    }
   ],
   "source": [
    "temp\n",
    "corpus = df.copy()\n",
    "corpus"
   ]
  },
  {
   "cell_type": "code",
   "execution_count": null,
   "metadata": {},
   "outputs": [],
   "source": []
  }
 ],
 "metadata": {
  "kernelspec": {
   "display_name": "Python 3",
   "language": "python",
   "name": "python3"
  },
  "language_info": {
   "codemirror_mode": {
    "name": "ipython",
    "version": 3
   },
   "file_extension": ".py",
   "mimetype": "text/x-python",
   "name": "python",
   "nbconvert_exporter": "python",
   "pygments_lexer": "ipython3",
   "version": "3.7.3"
  }
 },
 "nbformat": 4,
 "nbformat_minor": 2
}
