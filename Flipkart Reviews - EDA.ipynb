{
 "cells": [
  {
   "cell_type": "markdown",
   "metadata": {},
   "source": [
    "# EXPLORATORY DATA ANALYSIS"
   ]
  },
  {
   "cell_type": "code",
   "execution_count": 9,
   "metadata": {},
   "outputs": [
    {
     "data": {
      "text/html": [
       "<div>\n",
       "<style scoped>\n",
       "    .dataframe tbody tr th:only-of-type {\n",
       "        vertical-align: middle;\n",
       "    }\n",
       "\n",
       "    .dataframe tbody tr th {\n",
       "        vertical-align: top;\n",
       "    }\n",
       "\n",
       "    .dataframe thead th {\n",
       "        text-align: right;\n",
       "    }\n",
       "</style>\n",
       "<table border=\"1\" class=\"dataframe\">\n",
       "  <thead>\n",
       "    <tr style=\"text-align: right;\">\n",
       "      <th></th>\n",
       "      <th>0</th>\n",
       "    </tr>\n",
       "  </thead>\n",
       "  <tbody>\n",
       "    <tr>\n",
       "      <th>abe</th>\n",
       "      <td>1</td>\n",
       "    </tr>\n",
       "    <tr>\n",
       "      <th>aboutanddays</th>\n",
       "      <td>1</td>\n",
       "    </tr>\n",
       "    <tr>\n",
       "      <th>aboutdays</th>\n",
       "      <td>1</td>\n",
       "    </tr>\n",
       "    <tr>\n",
       "      <th>aboutmonths</th>\n",
       "      <td>1</td>\n",
       "    </tr>\n",
       "    <tr>\n",
       "      <th>absolutely</th>\n",
       "      <td>7</td>\n",
       "    </tr>\n",
       "  </tbody>\n",
       "</table>\n",
       "</div>"
      ],
      "text/plain": [
       "              0\n",
       "abe           1\n",
       "aboutanddays  1\n",
       "aboutdays     1\n",
       "aboutmonths   1\n",
       "absolutely    7"
      ]
     },
     "execution_count": 9,
     "metadata": {},
     "output_type": "execute_result"
    }
   ],
   "source": [
    "# Read in the document-term matrix\n",
    "import pandas as pd\n",
    "\n",
    "data = pd.read_pickle('Flipkart_dtm.pkl')\n",
    "data = data.transpose()\n",
    "data.head()"
   ]
  },
  {
   "cell_type": "code",
   "execution_count": 11,
   "metadata": {},
   "outputs": [
    {
     "data": {
      "text/html": [
       "<div>\n",
       "<style scoped>\n",
       "    .dataframe tbody tr th:only-of-type {\n",
       "        vertical-align: middle;\n",
       "    }\n",
       "\n",
       "    .dataframe tbody tr th {\n",
       "        vertical-align: top;\n",
       "    }\n",
       "\n",
       "    .dataframe thead th {\n",
       "        text-align: right;\n",
       "    }\n",
       "</style>\n",
       "<table border=\"1\" class=\"dataframe\">\n",
       "  <thead>\n",
       "    <tr style=\"text-align: right;\">\n",
       "      <th></th>\n",
       "      <th>0</th>\n",
       "    </tr>\n",
       "  </thead>\n",
       "  <tbody>\n",
       "    <tr>\n",
       "      <th>abe</th>\n",
       "      <td>1</td>\n",
       "    </tr>\n",
       "    <tr>\n",
       "      <th>aboutanddays</th>\n",
       "      <td>1</td>\n",
       "    </tr>\n",
       "    <tr>\n",
       "      <th>aboutdays</th>\n",
       "      <td>1</td>\n",
       "    </tr>\n",
       "    <tr>\n",
       "      <th>aboutmonths</th>\n",
       "      <td>1</td>\n",
       "    </tr>\n",
       "    <tr>\n",
       "      <th>absolutely</th>\n",
       "      <td>7</td>\n",
       "    </tr>\n",
       "    <tr>\n",
       "      <th>...</th>\n",
       "      <td>...</td>\n",
       "    </tr>\n",
       "    <tr>\n",
       "      <th>youre</th>\n",
       "      <td>1</td>\n",
       "    </tr>\n",
       "    <tr>\n",
       "      <th>youtube</th>\n",
       "      <td>5</td>\n",
       "    </tr>\n",
       "    <tr>\n",
       "      <th>yr</th>\n",
       "      <td>1</td>\n",
       "    </tr>\n",
       "    <tr>\n",
       "      <th>yt</th>\n",
       "      <td>1</td>\n",
       "    </tr>\n",
       "    <tr>\n",
       "      <th>zone</th>\n",
       "      <td>1</td>\n",
       "    </tr>\n",
       "  </tbody>\n",
       "</table>\n",
       "<p>2740 rows × 1 columns</p>\n",
       "</div>"
      ],
      "text/plain": [
       "              0\n",
       "abe           1\n",
       "aboutanddays  1\n",
       "aboutdays     1\n",
       "aboutmonths   1\n",
       "absolutely    7\n",
       "...          ..\n",
       "youre         1\n",
       "youtube       5\n",
       "yr            1\n",
       "yt            1\n",
       "zone          1\n",
       "\n",
       "[2740 rows x 1 columns]"
      ]
     },
     "execution_count": 11,
     "metadata": {},
     "output_type": "execute_result"
    }
   ],
   "source": [
    "data = data.transpose()\n",
    "data"
   ]
  },
  {
   "cell_type": "code",
   "execution_count": 15,
   "metadata": {},
   "outputs": [
    {
     "data": {
      "text/plain": [
       "{0: [('good', 527),\n",
       "  ('phone', 368),\n",
       "  ('camera', 225),\n",
       "  ('battery', 208),\n",
       "  ('price', 186),\n",
       "  ('mobile', 179),\n",
       "  ('nice', 147),\n",
       "  ('best', 138),\n",
       "  ('product', 111),\n",
       "  ('performance', 103),\n",
       "  ('quality', 98),\n",
       "  ('awesome', 85),\n",
       "  ('display', 84),\n",
       "  ('like', 82),\n",
       "  ('flipkart', 79),\n",
       "  ('fast', 76),\n",
       "  ('money', 72),\n",
       "  ('better', 68),\n",
       "  ('really', 62),\n",
       "  ('value', 62),\n",
       "  ('redmi', 62),\n",
       "  ('range', 61),\n",
       "  ('budget', 57),\n",
       "  ('great', 56),\n",
       "  ('buy', 56),\n",
       "  ('backup', 52),\n",
       "  ('delivery', 51),\n",
       "  ('excellent', 48),\n",
       "  ('use', 48),\n",
       "  ('happy', 47),\n",
       "  ('super', 46),\n",
       "  ('thank', 46),\n",
       "  ('mi', 45),\n",
       "  ('just', 39),\n",
       "  ('overall', 37),\n",
       "  ('time', 36),\n",
       "  ('love', 33),\n",
       "  ('charging', 32),\n",
       "  ('features', 31),\n",
       "  ('using', 30),\n",
       "  ('design', 29),\n",
       "  ('screen', 29),\n",
       "  ('low', 29),\n",
       "  ('working', 28),\n",
       "  ('service', 27),\n",
       "  ('thanks', 27),\n",
       "  ('processor', 27),\n",
       "  ('want', 26),\n",
       "  ('normal', 26),\n",
       "  ('dont', 26)]}"
      ]
     },
     "execution_count": 15,
     "metadata": {},
     "output_type": "execute_result"
    }
   ],
   "source": [
    "top_dict = {}\n",
    "top = data[0].sort_values(ascending=False).head(50)\n",
    "top_dict[0]= list(zip(top.index, top.values))\n",
    "top_dict"
   ]
  },
  {
   "cell_type": "markdown",
   "metadata": {},
   "source": [
    "*NOTE* : we can also remove some top words from this list if they are just common words like value,use,using,dont,just,want,normal,range,nice,thanks,overall,service,time and add them to stop words list"
   ]
  },
  {
   "cell_type": "markdown",
   "metadata": {},
   "source": [
    "Since these words are not together , I am just going to add them manually"
   ]
  },
  {
   "cell_type": "code",
   "execution_count": 18,
   "metadata": {},
   "outputs": [
    {
     "data": {
      "text/plain": [
       "['value',\n",
       " 'use',\n",
       " 'using',\n",
       " 'dont',\n",
       " 'just',\n",
       " 'want',\n",
       " 'normal',\n",
       " 'range',\n",
       " 'nice',\n",
       " 'thanks',\n",
       " 'overall',\n",
       " 'service',\n",
       " 'time']"
      ]
     },
     "execution_count": 18,
     "metadata": {},
     "output_type": "execute_result"
    }
   ],
   "source": [
    "#from collections import Counter --> IF YOU WANT TO DIRECTLY REMOVE SOME OF TOP WORDS , YOU CAN COUNT HOW MANY TIMES THEY ARE OCCURING IN THE LIST\n",
    "#HOWEVER HERE ALL OF THEM WILL OCCUR ONLLY ONCE\n",
    "words = ['value','use','using','dont','just','want','normal','range','nice','thanks','overall','service','time']\n",
    "words"
   ]
  },
  {
   "cell_type": "code",
   "execution_count": 17,
   "metadata": {},
   "outputs": [
    {
     "data": {
      "text/plain": [
       "[('value', 1),\n",
       " ('use', 1),\n",
       " ('using', 1),\n",
       " ('dont', 1),\n",
       " ('just', 1),\n",
       " ('want', 1),\n",
       " ('normal', 1),\n",
       " ('range', 1),\n",
       " ('nice', 1),\n",
       " ('thanks', 1),\n",
       " ('overall', 1),\n",
       " ('service', 1),\n",
       " ('time', 1)]"
      ]
     },
     "execution_count": 17,
     "metadata": {},
     "output_type": "execute_result"
    }
   ],
   "source": [
    "# Let's aggregate this list and identify the most common words along with how many routines they occur in\n",
    "Counter(words).most_common()"
   ]
  },
  {
   "cell_type": "code",
   "execution_count": 23,
   "metadata": {},
   "outputs": [
    {
     "data": {
      "text/html": [
       "<div>\n",
       "<style scoped>\n",
       "    .dataframe tbody tr th:only-of-type {\n",
       "        vertical-align: middle;\n",
       "    }\n",
       "\n",
       "    .dataframe tbody tr th {\n",
       "        vertical-align: top;\n",
       "    }\n",
       "\n",
       "    .dataframe thead th {\n",
       "        text-align: right;\n",
       "    }\n",
       "</style>\n",
       "<table border=\"1\" class=\"dataframe\">\n",
       "  <thead>\n",
       "    <tr style=\"text-align: right;\">\n",
       "      <th></th>\n",
       "      <th>abe</th>\n",
       "      <th>aboutanddays</th>\n",
       "      <th>aboutdays</th>\n",
       "      <th>aboutmonths</th>\n",
       "      <th>absolutely</th>\n",
       "      <th>accepted</th>\n",
       "      <th>accepting</th>\n",
       "      <th>according</th>\n",
       "      <th>accordingly</th>\n",
       "      <th>activities</th>\n",
       "      <th>...</th>\n",
       "      <th>yes</th>\n",
       "      <th>yetgood</th>\n",
       "      <th>yoga</th>\n",
       "      <th>youll</th>\n",
       "      <th>younger</th>\n",
       "      <th>youre</th>\n",
       "      <th>youtube</th>\n",
       "      <th>yr</th>\n",
       "      <th>yt</th>\n",
       "      <th>zone</th>\n",
       "    </tr>\n",
       "  </thead>\n",
       "  <tbody>\n",
       "    <tr>\n",
       "      <th>0</th>\n",
       "      <td>1</td>\n",
       "      <td>1</td>\n",
       "      <td>1</td>\n",
       "      <td>1</td>\n",
       "      <td>7</td>\n",
       "      <td>1</td>\n",
       "      <td>1</td>\n",
       "      <td>9</td>\n",
       "      <td>1</td>\n",
       "      <td>2</td>\n",
       "      <td>...</td>\n",
       "      <td>2</td>\n",
       "      <td>1</td>\n",
       "      <td>1</td>\n",
       "      <td>3</td>\n",
       "      <td>1</td>\n",
       "      <td>1</td>\n",
       "      <td>5</td>\n",
       "      <td>1</td>\n",
       "      <td>1</td>\n",
       "      <td>1</td>\n",
       "    </tr>\n",
       "  </tbody>\n",
       "</table>\n",
       "<p>1 rows × 2727 columns</p>\n",
       "</div>"
      ],
      "text/plain": [
       "   abe  aboutanddays  aboutdays  aboutmonths  absolutely  accepted  accepting  \\\n",
       "0    1             1          1            1           7         1          1   \n",
       "\n",
       "   according  accordingly  activities  ...  yes  yetgood  yoga  youll  \\\n",
       "0          9            1           2  ...    2        1     1      3   \n",
       "\n",
       "   younger  youre  youtube  yr  yt  zone  \n",
       "0        1      1        5   1   1     1  \n",
       "\n",
       "[1 rows x 2727 columns]"
      ]
     },
     "execution_count": 23,
     "metadata": {},
     "output_type": "execute_result"
    }
   ],
   "source": [
    "# Let's update our document-term matrix with the new list of stop words\n",
    "from sklearn.feature_extraction import text \n",
    "from sklearn.feature_extraction.text import CountVectorizer\n",
    "\n",
    "# Read in cleaned data\n",
    "corpus = pd.read_pickle('Flipkart_comb.pkl')\n",
    "\n",
    "# Add new stop words\n",
    "stop_words = text.ENGLISH_STOP_WORDS.union(words)\n",
    "\n",
    "# Recreate document-term matrix\n",
    "cv = CountVectorizer(stop_words=stop_words)\n",
    "data_cv = cv.fit_transform(corpus.TEXT)\n",
    "data_stop = pd.DataFrame(data_cv.toarray(), columns=cv.get_feature_names())\n",
    "data_stop.index = corpus.index\n",
    "\n",
    "# Pickle it for later use\n",
    "import pickle\n",
    "pickle.dump(cv, open(\"cv_stop.pkl\", \"wb\"))\n",
    "data_stop.to_pickle(\"dtm_stop.pkl\")\n",
    "\n",
    "data_stop"
   ]
  },
  {
   "cell_type": "code",
   "execution_count": 26,
   "metadata": {},
   "outputs": [
    {
     "name": "stdout",
     "output_type": "stream",
     "text": [
      "Requirement already satisfied: wordcloud in /home/skull_crusher/anaconda3/lib/python3.6/site-packages (1.8.0)\r\n",
      "Requirement already satisfied: pillow in /home/skull_crusher/anaconda3/lib/python3.6/site-packages (from wordcloud) (7.1.2)\r\n",
      "Requirement already satisfied: numpy>=1.6.1 in /home/skull_crusher/.local/lib/python3.6/site-packages (from wordcloud) (1.18.4)\r\n",
      "Requirement already satisfied: matplotlib in /home/skull_crusher/.local/lib/python3.6/site-packages (from wordcloud) (3.2.1)\r\n",
      "Requirement already satisfied: cycler>=0.10 in /home/skull_crusher/.local/lib/python3.6/site-packages (from matplotlib->wordcloud) (0.10.0)\r\n",
      "Requirement already satisfied: python-dateutil>=2.1 in /home/skull_crusher/.local/lib/python3.6/site-packages (from matplotlib->wordcloud) (2.8.1)\r\n",
      "Requirement already satisfied: kiwisolver>=1.0.1 in /home/skull_crusher/.local/lib/python3.6/site-packages (from matplotlib->wordcloud) (1.2.0)\r\n",
      "Requirement already satisfied: pyparsing!=2.0.4,!=2.1.2,!=2.1.6,>=2.0.1 in /home/skull_crusher/.local/lib/python3.6/site-packages (from matplotlib->wordcloud) (2.4.7)\r\n",
      "Requirement already satisfied: six in /home/skull_crusher/.local/lib/python3.6/site-packages (from cycler>=0.10->matplotlib->wordcloud) (1.14.0)\r\n"
     ]
    }
   ],
   "source": [
    "!pip install wordcloud"
   ]
  },
  {
   "cell_type": "code",
   "execution_count": 27,
   "metadata": {},
   "outputs": [],
   "source": [
    "import os\n",
    "import matplotlib.pyplot as plt\n",
    "from wordcloud import WordCloud"
   ]
  },
  {
   "cell_type": "code",
   "execution_count": null,
   "metadata": {},
   "outputs": [],
   "source": [
    "# Start with one review:\n",
    "text = comb_text.TEXT[0]\n",
    "\n",
    "# Create and generate a word cloud image:\n",
    "wordcloud = WordCloud().generate(text)\n",
    "\n",
    "# Display the generated image:\n",
    "plt.imshow(wordcloud, interpolation='bilinear')\n",
    "plt.axis(\"off\")\n",
    "plt.show()"
   ]
  },
  {
   "cell_type": "code",
   "execution_count": 24,
   "metadata": {},
   "outputs": [],
   "source": [
    "# Let's make some word clouds!\n",
    "# Terminal / Anaconda Prompt: conda install -c conda-forge wordcloud\n",
    "from wordcloud import WordCloud\n",
    "\n",
    "wc = WordCloud(stopwords=stop_words, background_color=\"white\", colormap=\"Dark2\",\n",
    "               max_font_size=150, random_state=42)\n"
   ]
  },
  {
   "cell_type": "code",
   "execution_count": 25,
   "metadata": {},
   "outputs": [
    {
     "ename": "NameError",
     "evalue": "name 'index' is not defined",
     "output_type": "error",
     "traceback": [
      "\u001b[0;31m---------------------------------------------------------------------------\u001b[0m",
      "\u001b[0;31mNameError\u001b[0m                                 Traceback (most recent call last)",
      "\u001b[0;32m<ipython-input-25-a5fc523686a7>\u001b[0m in \u001b[0;36m<module>\u001b[0;34m()\u001b[0m\n\u001b[1;32m      8\u001b[0m \u001b[0;31m# Create subplots for each comedian\u001b[0m\u001b[0;34m\u001b[0m\u001b[0;34m\u001b[0m\u001b[0;34m\u001b[0m\u001b[0m\n\u001b[1;32m      9\u001b[0m \u001b[0mwc\u001b[0m\u001b[0;34m.\u001b[0m\u001b[0mgenerate\u001b[0m\u001b[0;34m(\u001b[0m\u001b[0mcorpus\u001b[0m\u001b[0;34m.\u001b[0m\u001b[0mTEXT\u001b[0m\u001b[0;34m[\u001b[0m\u001b[0;36m0\u001b[0m\u001b[0;34m]\u001b[0m\u001b[0;34m)\u001b[0m\u001b[0;34m\u001b[0m\u001b[0;34m\u001b[0m\u001b[0m\n\u001b[0;32m---> 10\u001b[0;31m \u001b[0mplt\u001b[0m\u001b[0;34m.\u001b[0m\u001b[0msubplot\u001b[0m\u001b[0;34m(\u001b[0m\u001b[0;36m3\u001b[0m\u001b[0;34m,\u001b[0m \u001b[0;36m4\u001b[0m\u001b[0;34m,\u001b[0m \u001b[0mindex\u001b[0m\u001b[0;34m+\u001b[0m\u001b[0;36m1\u001b[0m\u001b[0;34m)\u001b[0m\u001b[0;34m\u001b[0m\u001b[0;34m\u001b[0m\u001b[0m\n\u001b[0m\u001b[1;32m     11\u001b[0m \u001b[0mplt\u001b[0m\u001b[0;34m.\u001b[0m\u001b[0mimshow\u001b[0m\u001b[0;34m(\u001b[0m\u001b[0mwc\u001b[0m\u001b[0;34m,\u001b[0m \u001b[0minterpolation\u001b[0m\u001b[0;34m=\u001b[0m\u001b[0;34m\"bilinear\"\u001b[0m\u001b[0;34m)\u001b[0m\u001b[0;34m\u001b[0m\u001b[0;34m\u001b[0m\u001b[0m\n\u001b[1;32m     12\u001b[0m \u001b[0mplt\u001b[0m\u001b[0;34m.\u001b[0m\u001b[0maxis\u001b[0m\u001b[0;34m(\u001b[0m\u001b[0;34m\"off\"\u001b[0m\u001b[0;34m)\u001b[0m\u001b[0;34m\u001b[0m\u001b[0;34m\u001b[0m\u001b[0m\n",
      "\u001b[0;31mNameError\u001b[0m: name 'index' is not defined"
     ]
    }
   ],
   "source": [
    "# Reset the output dimensions\n",
    "import matplotlib.pyplot as plt\n",
    "\n",
    "plt.rcParams['figure.figsize'] = [16, 6]\n",
    "\n",
    "full_names = ['TOP WORDS']\n",
    "\n",
    "# Create subplots for each comedian\n",
    "wc.generate(corpus.TEXT[0])\n",
    "plt.subplot(3, 4, index+1)\n",
    "plt.imshow(wc, interpolation=\"bilinear\")\n",
    "plt.axis(\"off\")\n",
    "plt.title(full_names[0])\n",
    "plt.show()"
   ]
  },
  {
   "cell_type": "code",
   "execution_count": null,
   "metadata": {},
   "outputs": [],
   "source": []
  }
 ],
 "metadata": {
  "kernelspec": {
   "display_name": "Python 3",
   "language": "python",
   "name": "python3"
  },
  "language_info": {
   "codemirror_mode": {
    "name": "ipython",
    "version": 3
   },
   "file_extension": ".py",
   "mimetype": "text/x-python",
   "name": "python",
   "nbconvert_exporter": "python",
   "pygments_lexer": "ipython3",
   "version": "3.7.3"
  }
 },
 "nbformat": 4,
 "nbformat_minor": 2
}
